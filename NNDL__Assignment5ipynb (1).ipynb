{
  "nbformat": 4,
  "nbformat_minor": 0,
  "metadata": {
    "colab": {
      "provenance": []
    },
    "kernelspec": {
      "name": "python3",
      "display_name": "Python 3"
    },
    "language_info": {
      "name": "python"
    }
  },
  "cells": [
    {
      "cell_type": "code",
      "execution_count": 1,
      "metadata": {
        "colab": {
          "base_uri": "https://localhost:8080/"
        },
        "id": "k-DMwoU5zvmf",
        "outputId": "72dc1bf0-bf5a-47d2-8510-e4b3fe7a65ea"
      },
      "outputs": [
        {
          "output_type": "stream",
          "name": "stdout",
          "text": [
            "GaussianNB Accuracy: 55.81%\n",
            "\n",
            "Naïve Bayes Classification Report:\n",
            "              precision    recall  f1-score   support\n",
            "\n",
            "           1       0.41      0.64      0.50        11\n",
            "           2       0.43      0.21      0.29        14\n",
            "           3       0.40      0.67      0.50         3\n",
            "           5       0.50      0.25      0.33         4\n",
            "           6       1.00      1.00      1.00         3\n",
            "           7       0.89      1.00      0.94         8\n",
            "\n",
            "    accuracy                           0.56        43\n",
            "   macro avg       0.60      0.63      0.59        43\n",
            "weighted avg       0.55      0.56      0.53        43\n",
            "\n"
          ]
        }
      ],
      "source": [
        "import pandas as pd\n",
        "import numpy as np\n",
        "from sklearn.model_selection import train_test_split\n",
        "from sklearn.naive_bayes import GaussianNB\n",
        "from sklearn.svm import SVC\n",
        "from sklearn.metrics import accuracy_score, classification_report\n",
        "\n",
        "# Load the glass dataset\n",
        "glass_data = pd.read_csv (r\"glass.csv\")\n",
        "\n",
        "# Split the data into features and target\n",
        "X = glass_data.iloc[:, :-1].values\n",
        "y = glass_data.iloc[:, -1].values\n",
        "\n",
        "# Split the data into training and testing sets\n",
        "X_train, X_test, y_train, y_test = train_test_split(X, y, test_size=0.2, random_state=42)\n",
        "\n",
        "# Train the GaussianNB model\n",
        "gnb = GaussianNB()\n",
        "gnb.fit(X_train, y_train)\n",
        "\n",
        "# Make predictions on the test set\n",
        "gnb_y_pred = gnb.predict(X_test)\n",
        "\n",
        "gnb_acc = accuracy_score(y_test, gnb_y_pred)\n",
        "print(\"GaussianNB Accuracy: {:.2f}%\".format(gnb_acc * 100))\n",
        "print(\"\\nNaïve Bayes Classification Report:\")\n",
        "print(classification_report(y_test, gnb_y_pred, zero_division=1))"
      ]
    },
    {
      "cell_type": "code",
      "source": [
        "import pandas as pd\n",
        "import numpy as np\n",
        "from sklearn.model_selection import train_test_split\n",
        "from sklearn.naive_bayes import GaussianNB\n",
        "from sklearn.svm import SVC\n",
        "from sklearn.metrics import accuracy_score, classification_report\n",
        "\n",
        "# Load the glass dataset\n",
        "glass_data = pd.read_csv(r\"glass.csv\")\n",
        "\n",
        "# Split the data into features and target\n",
        "X = glass_data.iloc[:, :-1].values\n",
        "y = glass_data.iloc[:, -1].values\n",
        "\n",
        "# Split the data into training and testing sets\n",
        "X_train, X_test, y_train, y_test = train_test_split(X, y, test_size=0.2, random_state=42)\n",
        "svm = SVC(kernel='linear')\n",
        "svm.fit(X_train, y_train)\n",
        "\n",
        "# Make predictions on the test set\n",
        "svm_y_pred = svm.predict(X_test)\n",
        "\n",
        "# Evaluate the model performance\n",
        "svm_acc = accuracy_score(y_test, svm_y_pred,)\n",
        "print(\"SVM Accuracy: {:.2f}%\".format(svm_acc * 100))\n",
        "print(\"\\nSVM Classification Report:\")\n",
        "print(classification_report(y_test, svm_y_pred, zero_division=1))"
      ],
      "metadata": {
        "colab": {
          "base_uri": "https://localhost:8080/"
        },
        "id": "O6PE376A0RGy",
        "outputId": "70a836ba-6600-4b43-aa33-c42f703e0f34"
      },
      "execution_count": 2,
      "outputs": [
        {
          "output_type": "stream",
          "name": "stdout",
          "text": [
            "SVM Accuracy: 74.42%\n",
            "\n",
            "SVM Classification Report:\n",
            "              precision    recall  f1-score   support\n",
            "\n",
            "           1       0.69      0.82      0.75        11\n",
            "           2       0.67      0.71      0.69        14\n",
            "           3       1.00      0.00      0.00         3\n",
            "           5       0.80      1.00      0.89         4\n",
            "           6       1.00      0.67      0.80         3\n",
            "           7       0.88      0.88      0.88         8\n",
            "\n",
            "    accuracy                           0.74        43\n",
            "   macro avg       0.84      0.68      0.67        43\n",
            "weighted avg       0.77      0.74      0.72        43\n",
            "\n"
          ]
        }
      ]
    }
  ]
}