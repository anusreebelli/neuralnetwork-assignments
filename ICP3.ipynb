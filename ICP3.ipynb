{
  "nbformat": 4,
  "nbformat_minor": 0,
  "metadata": {
    "colab": {
      "provenance": []
    },
    "kernelspec": {
      "name": "python3",
      "display_name": "Python 3"
    },
    "language_info": {
      "name": "python"
    }
  },
  "cells": [
    {
      "cell_type": "code",
      "source": [
        "class Employee:\n",
        "    employee_count = 0\n",
        "\n",
        "    def __init__(self, name, family, salary, department):\n",
        "        self.name = name\n",
        "        self.family = family\n",
        "        self.salary = salary\n",
        "        self.department = department\n",
        "        Employee.employee_count += 1\n",
        "\n",
        "    def average_salary(self, *salaries):\n",
        "        total_salary = sum(salaries) + self.salary\n",
        "        average = total_salary / (len(salaries) + 1)\n",
        "        return average\n",
        "\n",
        "class FulltimeEmployee(Employee):\n",
        "    def __init__(self, name, family, salary, department, hours_per_week):\n",
        "        super().__init__(name, family, salary, department)\n",
        "        self.hours_per_week = hours_per_week\n",
        "employee1 = Employee(\"anusree\", \"Family sree\", 50000, \"HR\")\n",
        "employee2 = FulltimeEmployee(\"vicky\", \"Family vicky\", 60000, \"IT\", 40)\n",
        "average_salary_employee1 = employee1.average_salary(55000, 60000)\n",
        "print(f\"Average Salary for Employee 1: ${average_salary_employee1}\")\n",
        "\n",
        "average_salary_employee2 = employee2.average_salary(65000, 70000)\n",
        "print(f\"Average Salary for Employee 2: ${average_salary_employee2}\")\n",
        "print(f\"Total Number of Employees: {Employee.employee_count}\")\n"
      ],
      "metadata": {
        "colab": {
          "base_uri": "https://localhost:8080/"
        },
        "id": "hhByhdnxWulE",
        "outputId": "33e4e75f-9c17-4e29-8e13-fd9742a07411"
      },
      "execution_count": 9,
      "outputs": [
        {
          "output_type": "stream",
          "name": "stdout",
          "text": [
            "Average Salary for Employee 1: $55000.0\n",
            "Average Salary for Employee 2: $65000.0\n",
            "Total Number of Employees: 2\n"
          ]
        }
      ]
    },
    {
      "cell_type": "code",
      "source": [
        "import numpy as np\n",
        "\n",
        "random_vector = np.random.uniform(1, 20, 20)\n",
        "reshaped_array = random_vector.reshape(4, 5)\n",
        "reshaped_array[np.arange(len(reshaped_array)), reshaped_array.argmax(axis=1)] = 0\n",
        "\n",
        "print(\"Original array:\")\n",
        "print(random_vector)\n",
        "print(\"\\nReshaped array:\")\n",
        "print(reshaped_array)"
      ],
      "metadata": {
        "colab": {
          "base_uri": "https://localhost:8080/"
        },
        "id": "WM1-x6bBYlLN",
        "outputId": "991b27bc-d69e-4656-be11-55cf60e42003"
      },
      "execution_count": 10,
      "outputs": [
        {
          "output_type": "stream",
          "name": "stdout",
          "text": [
            "Original array:\n",
            "[ 4.82129353 11.34500767 13.01329696 11.98142526  0.         16.48334288\n",
            " 10.20083631  7.5594927   0.         17.43413334 11.42496845  0.\n",
            " 11.29347764  6.53606341 13.18018117 14.37132524  7.07468861  1.64068863\n",
            " 15.08888537  0.        ]\n",
            "\n",
            "Reshaped array:\n",
            "[[ 4.82129353 11.34500767 13.01329696 11.98142526  0.        ]\n",
            " [16.48334288 10.20083631  7.5594927   0.         17.43413334]\n",
            " [11.42496845  0.         11.29347764  6.53606341 13.18018117]\n",
            " [14.37132524  7.07468861  1.64068863 15.08888537  0.        ]]\n"
          ]
        }
      ]
    }
  ]
}